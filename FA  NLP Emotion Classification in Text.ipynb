{
 "cells": [
  {
   "cell_type": "code",
   "execution_count": 19,
   "id": "2a5f01f5-ddce-404d-93fe-3d5d9b5c365e",
   "metadata": {},
   "outputs": [
    {
     "name": "stderr",
     "output_type": "stream",
     "text": [
      "[nltk_data] Downloading package stopwords to C:\\Users\\Windows\n",
      "[nltk_data]     10\\AppData\\Roaming\\nltk_data...\n",
      "[nltk_data]   Package stopwords is already up-to-date!\n"
     ]
    }
   ],
   "source": [
    "import pandas as pd\n",
    "import numpy as np\n",
    "import re\n",
    "import nltk\n",
    "from sklearn.model_selection import train_test_split\n",
    "from sklearn.feature_extraction.text import TfidfVectorizer\n",
    "from sklearn.naive_bayes import MultinomialNB\n",
    "from sklearn.svm import SVC\n",
    "from sklearn.metrics import accuracy_score, classification_report\n",
    "from nltk.corpus import stopwords\n",
    "nltk.download('stopwords')\n",
    "\n",
    "# Loading the dataset\n",
    "dataset = pd.read_csv('nlp_dataset.csv')"
   ]
  },
  {
   "cell_type": "code",
   "execution_count": 20,
   "id": "08fc0cf5-5acd-489d-91e4-3305d4c06a2a",
   "metadata": {},
   "outputs": [
    {
     "name": "stdout",
     "output_type": "stream",
     "text": [
      "Dataset Head:\n",
      "                                             Comment Emotion\n",
      "0  i seriously hate one subject to death but now ...    fear\n",
      "1                 im so full of life i feel appalled   anger\n",
      "2  i sit here to write i start to dig out my feel...    fear\n",
      "3  ive been really angry with r and i feel like a...     joy\n",
      "4  i feel suspicious if there is no one outside l...    fear\n"
     ]
    }
   ],
   "source": [
    "# Displaying the first few rows of the dataset\n",
    "print(\"Dataset Head:\")\n",
    "print(dataset.head())\n"
   ]
  },
  {
   "cell_type": "code",
   "execution_count": 21,
   "id": "3054f63a-eb88-4273-9dfa-d26bba8db112",
   "metadata": {},
   "outputs": [
    {
     "name": "stdout",
     "output_type": "stream",
     "text": [
      "\n",
      "Cleaned Dataset:\n",
      "                                             Comment  \\\n",
      "0  i seriously hate one subject to death but now ...   \n",
      "1                 im so full of life i feel appalled   \n",
      "2  i sit here to write i start to dig out my feel...   \n",
      "3  ive been really angry with r and i feel like a...   \n",
      "4  i feel suspicious if there is no one outside l...   \n",
      "\n",
      "                                        cleaned_text  \n",
      "0  seriously hate one subject death feel reluctan...  \n",
      "1                         im full life feel appalled  \n",
      "2  sit write start dig feelings think afraid acce...  \n",
      "3  ive really angry r feel like idiot trusting fi...  \n",
      "4  feel suspicious one outside like rapture happe...  \n"
     ]
    }
   ],
   "source": [
    "# Preprocessing the Text\n",
    "# Defining a function to clean and preprocess text\n",
    "\n",
    "def preprocess_text(text):\n",
    "    text = text.lower()\n",
    "    text = re.sub(r'[^a-zA-Z\\s]', '', text)\n",
    "    words = text.split()\n",
    "    stop_words = set(stopwords.words('english'))\n",
    "    words = [word for word in words if word not in stop_words]\n",
    "    return ' '.join(words)\n",
    "\n",
    "# Apply preprocessing to the dataset\n",
    "dataset['cleaned_text'] = dataset['Comment'].apply(preprocess_text)\n",
    "\n",
    "# Display cleaned text\n",
    "print(\"\\nCleaned Dataset:\")\n",
    "print(dataset[['Comment', 'cleaned_text']].head())"
   ]
  },
  {
   "cell_type": "code",
   "execution_count": 22,
   "id": "76c28273-b1d5-4c0d-84f0-ec10dc338126",
   "metadata": {},
   "outputs": [],
   "source": [
    "# Feature Extraction using TfidfVectorizer\n",
    "tfidf = TfidfVectorizer()\n",
    "X = tfidf.fit_transform(dataset['cleaned_text'])  \n",
    "y = dataset['Emotion']  "
   ]
  },
  {
   "cell_type": "code",
   "execution_count": 23,
   "id": "4a493454-979a-470f-8190-d33748a458b5",
   "metadata": {},
   "outputs": [],
   "source": [
    "X_train, X_test, y_train, y_test = train_test_split(X, y, test_size=0.2, random_state=42)"
   ]
  },
  {
   "cell_type": "code",
   "execution_count": 24,
   "id": "7ccd9a96-a089-4120-b0cb-0abfdbd31806",
   "metadata": {},
   "outputs": [],
   "source": [
    "#  Naive Bayes Classifier\n",
    "nb_model = MultinomialNB()\n",
    "nb_model.fit(X_train, y_train)\n",
    "y_pred_nb = nb_model.predict(X_test)"
   ]
  },
  {
   "cell_type": "code",
   "execution_count": 25,
   "id": "506cc4e7-7c94-483b-bbec-afe526a16a2f",
   "metadata": {},
   "outputs": [],
   "source": [
    "# Support Vector Machine Classifier\n",
    "svm_model = SVC(kernel='linear') \n",
    "svm_model.fit(X_train, y_train)\n",
    "y_pred_svm = svm_model.predict(X_test)"
   ]
  },
  {
   "cell_type": "code",
   "execution_count": 26,
   "id": "e9a3a698-9b9e-4c92-9af9-5cbcca67fef1",
   "metadata": {},
   "outputs": [],
   "source": [
    "# Model Comparison and Evaluation"
   ]
  },
  {
   "cell_type": "code",
   "execution_count": 27,
   "id": "c21e74a4-4b99-4139-860e-0bb25dbf35a1",
   "metadata": {},
   "outputs": [
    {
     "name": "stdout",
     "output_type": "stream",
     "text": [
      "\n",
      "Naive Bayes Model Evaluation:\n",
      "Accuracy: 0.91\n",
      "Classification Report:\n",
      "              precision    recall  f1-score   support\n",
      "\n",
      "       anger       0.88      0.95      0.91       392\n",
      "        fear       0.92      0.92      0.92       416\n",
      "         joy       0.94      0.87      0.90       380\n",
      "\n",
      "    accuracy                           0.91      1188\n",
      "   macro avg       0.91      0.91      0.91      1188\n",
      "weighted avg       0.91      0.91      0.91      1188\n",
      "\n"
     ]
    }
   ],
   "source": [
    "# Naive Bayes Evaluation\n",
    "print(\"\\nNaive Bayes Model Evaluation:\")\n",
    "print(f\"Accuracy: {accuracy_score(y_test, y_pred_nb):.2f}\")\n",
    "print(\"Classification Report:\")\n",
    "print(classification_report(y_test, y_pred_nb))"
   ]
  },
  {
   "cell_type": "code",
   "execution_count": 28,
   "id": "1089fc9c-3a03-464b-a41c-b38fe673fcc9",
   "metadata": {},
   "outputs": [
    {
     "name": "stdout",
     "output_type": "stream",
     "text": [
      "\n",
      "SVM Model Evaluation:\n",
      "Accuracy: 0.94\n",
      "Classification Report:\n",
      "              precision    recall  f1-score   support\n",
      "\n",
      "       anger       0.93      0.95      0.94       392\n",
      "        fear       0.97      0.91      0.94       416\n",
      "         joy       0.94      0.97      0.95       380\n",
      "\n",
      "    accuracy                           0.94      1188\n",
      "   macro avg       0.94      0.95      0.94      1188\n",
      "weighted avg       0.95      0.94      0.94      1188\n",
      "\n"
     ]
    }
   ],
   "source": [
    "# SVM Evaluation\n",
    "print(\"\\nSVM Model Evaluation:\")\n",
    "print(f\"Accuracy: {accuracy_score(y_test, y_pred_svm):.2f}\")\n",
    "print(\"Classification Report:\")\n",
    "print(classification_report(y_test, y_pred_svm))\n"
   ]
  }
 ],
 "metadata": {
  "kernelspec": {
   "display_name": "Python 3 (ipykernel)",
   "language": "python",
   "name": "python3"
  },
  "language_info": {
   "codemirror_mode": {
    "name": "ipython",
    "version": 3
   },
   "file_extension": ".py",
   "mimetype": "text/x-python",
   "name": "python",
   "nbconvert_exporter": "python",
   "pygments_lexer": "ipython3",
   "version": "3.12.5"
  }
 },
 "nbformat": 4,
 "nbformat_minor": 5
}
